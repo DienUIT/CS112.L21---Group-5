{
 "cells": [
  {
   "cell_type": "markdown",
   "metadata": {},
   "source": [
    "# **H-INDEX**\n",
    "\n",
    "## **I. Abstraction (Trừu tượng hóa):**\n",
    "- Tìm số `k lớn nhất` sao cho mảng `n` có `k` số có giá trị `lớn hơn hoặc bằng k`.\n",
    "\n",
    "## **II. Pattern Recognition (Nhận dạng mẫu):**\n",
    "- **Bài toán/ Kỹ thuật:** Duyệt mảng\n",
    "- **Đặc điểm nhận dạng:**  \n",
    "Ví dụ cho mảng arr = [2, 4, 5, 6, 7, 3, 9].  \n",
    "\t- Với `k = 7` có `2` phần tử `>= 7` => `không thỏa.`  \n",
    "\t- Với `k = 6` có `3` phần tử `>= 6` => `không thỏa.`  \n",
    "\t- Với `k = 5` có `4` phần tử `>= 5` => `không thỏa.`  \n",
    "\t- Với `k = 4` có `5` phần tử `>= 4` => `thỏa.`  \n",
    "\t- Với `k = 3` có `6` phần tử `>= 3` => `thỏa.`  \n",
    "\t- Với `k = 2` có `7` phần tử `>= 2` => `thỏa.`  \n",
    "\t- Với `k = 1` có `7` phần tử `>= 1` => `thỏa.`\n",
    "\n",
    "Vậy `k = 4` thỏa yêu cầu đề.\n",
    "\n",
    "## **III. ALgorithm Designed (Thiết kế thuật toán):**\n",
    "**Mã giả:**\n",
    "- Sắp xếp mảng giảm dần: `arr.sort(reverse = True)`.\n",
    "- Loop `n > 0:`  \n",
    "\tNếu `arr[n - 1] >= n:` thì `print(n)` và dừng chương trình.  \n",
    "\tNếu `arr[n - 1] < n:` thì `n -= 1`.\n",
    "- Nếu `n == 0:` thì `print(0)`.\n",
    "\n",
    "## **IV. Complexity (Độ phức tạp):**\n",
    "- Độ phức tạp của thuật toán: `O(n).`"
   ]
  }
 ],
 "metadata": {
  "kernelspec": {
   "display_name": "Python 3",
   "language": "python",
   "name": "python3"
  },
  "language_info": {
   "codemirror_mode": {
    "name": "ipython",
    "version": 3
   },
   "file_extension": ".py",
   "mimetype": "text/x-python",
   "name": "python",
   "nbconvert_exporter": "python",
   "pygments_lexer": "ipython3",
   "version": "3.8.5"
  }
 },
 "nbformat": 4,
 "nbformat_minor": 4
}
