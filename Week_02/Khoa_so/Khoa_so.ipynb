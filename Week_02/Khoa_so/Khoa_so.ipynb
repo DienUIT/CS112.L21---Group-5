{
 "cells": [
  {
   "cell_type": "markdown",
   "metadata": {},
   "source": [
    "# KHOA SO\n",
    "\n",
    "## I. Abstraction\n",
    "  * Find the largest string of numbers divisible by 3\n",
    "\n",
    "## II. Pattern recognition\n",
    "  * Skill: Browsing array\n",
    "  * Pattern recognition: numbers divisible by 3\n",
    "   \n",
    "## III. Algorithm designed\n",
    "  * Covert string to list:\n",
    "      + for i in string: append(int(i)) to arr\n",
    "  * Sort arr: arr.sort()\n",
    "  * Find modulo\n",
    "      + r = a%3 for a in arr\n",
    "  * Initialize def remove x in array r and remove value with index = r.index(x) in array arr\n",
    "  * Case 1: sum modulo % 3 == 0:\n",
    "      + arr.sort(reverse = True)\n",
    "      + print(*arr,sep=())\n",
    "  * Case 2: sum modulo % 3 != 0:\n",
    "      + try: remove number smallest with (s = sum modulo % 3 = ( 1 or 2 )) \n",
    "      + else => except: remove 2 number smallest with (s = 3 - sum modulo % 3)\n",
    "      + then arr.sort(reverse = True)\n",
    "      + print(*arr,sep =())\n",
    " \n",
    "## IV. Complexity\n",
    "   * O(n)\n",
    "\n",
    "## V. Code"
   ]
  },
  {
   "cell_type": "code",
   "execution_count": 4,
   "metadata": {},
   "outputs": [],
   "source": [
    "def remove_smallest(x,r,arr):\n",
    "        idx = r.index(x)\n",
    "        arr.pop(idx)\n",
    "        r.pop(idx)\n",
    "\n",
    "def largestMultipleOfThree(arr):\n",
    "    r = [a % 3 for a in arr]\n",
    "    s = sum(r) % 3\n",
    "\n",
    "    if s != 0:\n",
    "        try:\n",
    "            remove_smallest(s, r, arr)\n",
    "        except:\n",
    "            remove_smallest(3-s, r, arr)\n",
    "            remove_smallest(3-s, r, arr)\n",
    "\n",
    "    if len(arr) == 0:\n",
    "        print(\"\")\n",
    "    else:\n",
    "        arr.sort(reverse = True)\n",
    "        print(*arr,sep=\"\")\n",
    "        \n",
    "# Driver Code\n",
    "\n",
    "from sys import stdin\n",
    "\n",
    "string = list(stdin.readline().strip())\n",
    "\n",
    "arr = []\n",
    "for i in string:\n",
    "    arr.append(int(i))\n",
    "arr.sort()\n",
    "largestMultipleOfThree(arr)"
   ]
  }
 ],
 "metadata": {
  "kernelspec": {
   "display_name": "Python 3",
   "language": "python",
   "name": "python3"
  },
  "language_info": {
   "codemirror_mode": {
    "name": "ipython",
    "version": 3
   },
   "file_extension": ".py",
   "mimetype": "text/x-python",
   "name": "python",
   "nbconvert_exporter": "python",
   "pygments_lexer": "ipython3",
   "version": "3.8.5"
  }
 },
 "nbformat": 4,
 "nbformat_minor": 4
}
