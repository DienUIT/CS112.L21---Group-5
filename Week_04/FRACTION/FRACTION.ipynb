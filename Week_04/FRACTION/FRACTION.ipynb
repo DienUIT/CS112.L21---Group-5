{
 "cells": [
  {
   "cell_type": "markdown",
   "metadata": {},
   "source": [
    "<a href=\"https://colab.research.google.com/\" target=\"_parent\"><img src=\"https://colab.research.google.com/assets/colab-badge.svg\" alt=\"Open In Colab\"/></a>"
   ]
  },
  {
   "cell_type": "markdown",
   "metadata": {},
   "source": [
    "# VU20_FRACTION"
   ]
  },
  {
   "cell_type": "markdown",
   "metadata": {},
   "source": [
    "## I. ABSTRACTION (TRỪU TƯỢNG HÓA)  \n",
    "- Input: Cho phân số a/b và c/d tối giản (0 < a < b < 10^5, 0 < c < d < 10^5)\n",
    "- Process: Mỗi lần tăng a, b lên 1 đơn vị và tối giản a/b\n",
    "- Output: Tìm số process để a/b = c/d (Nếu không có process nào thì xuất 0)"
   ]
  },
  {
   "cell_type": "markdown",
   "metadata": {},
   "source": [
    "## II. PATTERN RECOGNIZATION (NHẬN DIỆN KHUÔN MẪU)\n",
    "- Kỹ thuật: Duyệt"
   ]
  },
  {
   "cell_type": "markdown",
   "metadata": {},
   "source": [
    "## III. Algorithm designed\n",
    "- Khởi tạo hàm tìm UCLN của 2 số a và b:  \n",
    "    + Nếu b == 0 => return a  \n",
    "    + Đệ quy return ucln(b, a%b)\n",
    "- Hàm xử lý:\n",
    "    + Khởi tạo biến đếm count = 0\n",
    "    + f1 = a/b\n",
    "    + f2 = c/d\n",
    "    + Trong khi f1 < f2: \n",
    "        + a = a + 1\n",
    "        + b = b + 1\n",
    "        + Nếu a / b = c / d => Xuất count và thoát\n",
    "        + Nếu sai thì count += 1 và lặp lại\n",
    "    + Nếu f1 < f2: Xuất 0\n",
    "\n"
   ]
  },
  {
   "cell_type": "markdown",
   "metadata": {},
   "source": [
    "## IV. Complexity  \n",
    "- O(2 * max(b, d))"
   ]
  },
  {
   "cell_type": "markdown",
   "metadata": {},
   "source": [
    "## V. Code"
   ]
  },
  {
   "cell_type": "code",
   "execution_count": 6,
   "metadata": {},
   "outputs": [
    {
     "name": "stdout",
     "output_type": "stream",
     "text": [
      "1\n",
      "6\n",
      "2\n",
      "3\n",
      "5\n"
     ]
    }
   ],
   "source": [
    "def ucln(a, b):\n",
    "    if (b == 0):\n",
    "        return a\n",
    "    return ucln(b, a % b)\n",
    "\n",
    "def fraction(a,b,c,d):\n",
    "    count = 1\n",
    "    f1 = a / b\n",
    "    f2 = c / d\n",
    "    while f1 < f2:\n",
    "        a += 1\n",
    "        b += 1\n",
    "        k = ucln(a, b)\n",
    "        a /=k\n",
    "        b /= k\n",
    "        f1 = a / b\n",
    "        if f1 == f2:\n",
    "            return count\n",
    "        count+=1\n",
    "    if f1 != f2:\n",
    "        return 0\n",
    "\n",
    "\n",
    "# Drive code\n",
    "a = int(input())\n",
    "b = int(input())\n",
    "c = int(input())\n",
    "d = int(input())\n",
    "print(fraction(a,b,c,d))"
   ]
  }
 ],
 "metadata": {
  "kernelspec": {
   "display_name": "Python 3",
   "language": "python",
   "name": "python3"
  },
  "language_info": {
   "codemirror_mode": {
    "name": "ipython",
    "version": 3
   },
   "file_extension": ".py",
   "mimetype": "text/x-python",
   "name": "python",
   "nbconvert_exporter": "python",
   "pygments_lexer": "ipython3",
   "version": "3.8.5"
  }
 },
 "nbformat": 4,
 "nbformat_minor": 4
}
