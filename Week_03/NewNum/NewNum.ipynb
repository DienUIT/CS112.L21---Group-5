{
  "nbformat": 4,
  "nbformat_minor": 0,
  "metadata": {
    "colab": {
      "name": "NewNum.ipynb",
      "provenance": [],
      "collapsed_sections": [],
      "include_colab_link": true
    },
    "kernelspec": {
      "name": "python3",
      "display_name": "Python 3"
    },
    "language_info": {
      "name": "python"
    }
  },
  "cells": [
    {
      "cell_type": "markdown",
      "metadata": {
        "id": "view-in-github",
        "colab_type": "text"
      },
      "source": [
        "<a href=\"https://colab.research.google.com/github/HuynhThiMyDuyen/CS112.L21-Group5/blob/main/Week_03/NewNum/NewNum.ipynb\" target=\"_parent\"><img src=\"https://colab.research.google.com/assets/colab-badge.svg\" alt=\"Open In Colab\"/></a>"
      ]
    },
    {
      "cell_type": "markdown",
      "metadata": {
        "id": "HqlZg07sBoYl"
      },
      "source": [
        "\n",
        "# **NEW NUMBER**\n",
        "\n",
        "## **I. Abstraction (Trừu tượng hóa):**\n",
        "- Tìm số `m lớn nhất chia hết cho 3` và `khác n` tại đúng `1 chữ số`.\n",
        "\n",
        "## **II. Pattern Recognition (Nhận dạng mẫu):**\n",
        "- **Bài toán/ Kỹ thuật:** Vét cạn.\n",
        "- **Đặc điểm nhận dạng:**  \n",
        "    - Duyệt qua từng chữ số đến khi tìm được chữ số lớn hơn thỏa đề bài.\n",
        "    - Nếu không tìm chữ số nhỏ hơn chữ số cuối cùng và thỏa đề bài.   \n",
        "    \n",
        "## **III. ALgorithm Designed (Thiết kế thuật toán):**\n",
        "**Mã giả:**\n",
        "- Tách số n thành mảng các chữ số: `array = list(str(n))`.\n",
        "- **Trường hợp 1:** Tìm số `m lớn hơn n` thỏa đề bài.  \n",
        "Duyệt i từ vị trí đầu đến cuối mảng array:  \n",
        "    - Gán `new` là số lớn hơn và gần giá trị `int(array[i])` nhất sao cho nếu thay `array[i] = new` ta có tổng mảng chia hết cho 3: `new = int(array[i]) + (3 - (n % 3))`.  \n",
        "    - Nếu `new <= 9`:  \n",
        "        - Tăng `new` thêm 3 đơn vị đến khi `new là lớn nhất có thể và bé hơn 10`.  \n",
        "            - `while new <= 6:\n",
        "                new += 3`  \n",
        "        - Gán `array[i] = str(new)`.  \n",
        "        - Gộp mảng thành `số m` và xuất ra màn hình.  \n",
        "- **Trường hợp 2:** Tìm số `m bé hơn n` thoải đề bài.  \n",
        "    - Nếu `n chia hết cho 3` thì gán `new = int(array[len(array) - 1]) - 3`.  \n",
        "    - Nếu `n không chia hết cho 3` thì gán `new = int(array[len(array) - 1]) - (n % 3)`.  \n",
        "    - Gán `array[len(array) - 1] = str(new)`.  \n",
        "    - Gộp mảng thành `số m` và xuất ra màn hình.  \n",
        "\n",
        "## **IV. Complexity (Độ phức tạp):**\n",
        "- Gọi số nhập vào có `n chữ số`.\n",
        "- Độ phức tạp của thuật toán: `O(n).`\n",
        "\n",
        "## **V. Code:**\n"
      ]
    },
    {
      "cell_type": "code",
      "metadata": {
        "colab": {
          "base_uri": "https://localhost:8080/"
        },
        "id": "bpAj5pkZBw24",
        "outputId": "f3a5aef7-f4d7-4651-cfe2-3aff8671100f"
      },
      "source": [
        "import sys\n",
        "\n",
        "def convertNewInteger(n):\n",
        "    array = list(str(n))\n",
        "\n",
        "    for i in range(len(array)):\n",
        "        new = int(array[i]) + (3 - (n % 3))\n",
        "        if new <= 9:\n",
        "            while new <= 6:\n",
        "                new += 3\n",
        "                \n",
        "            array[i] = str(new)\n",
        "            print(\"\".join(array))\n",
        "            return\n",
        "\n",
        "    if n % 3 == 0:\n",
        "        new = int(array[len(array) - 1]) - 3\n",
        "    else:\n",
        "        new = int(array[len(array) - 1]) - (n % 3)\n",
        "        \n",
        "    array[len(array) - 1] = str(new)\n",
        "    print(\"\".join(array))\n",
        "\n",
        "n = int(input())\n",
        "convertNewInteger(n)"
      ],
      "execution_count": null,
      "outputs": [
        {
          "output_type": "stream",
          "text": [
            "123\n",
            "723\n"
          ],
          "name": "stdout"
        }
      ]
    }
  ]
}