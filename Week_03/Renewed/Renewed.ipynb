{
  "nbformat": 4,
  "nbformat_minor": 0,
  "metadata": {
    "colab": {
      "name": "Renewed.ipynb",
      "provenance": [],
      "include_colab_link": true
    },
    "kernelspec": {
      "name": "python3",
      "display_name": "Python 3"
    },
    "language_info": {
      "name": "python"
    }
  },
  "cells": [
    {
      "cell_type": "markdown",
      "metadata": {
        "id": "view-in-github",
        "colab_type": "text"
      },
      "source": [
        "<a href=\"https://colab.research.google.com/github/HuynhThiMyDuyen/CS112.L21-Group5/blob/main/Week_03/Renewed/Renewed.ipynb\" target=\"_parent\"><img src=\"https://colab.research.google.com/assets/colab-badge.svg\" alt=\"Open In Colab\"/></a>"
      ]
    },
    {
      "cell_type": "markdown",
      "metadata": {
        "id": "lVavKapqtU2M"
      },
      "source": [
        "# **RENEWED**\n",
        "\n",
        "## **I. Abstraction (Trừu tượng hóa):**\n",
        "- Tìm `số ngày` 2 đội đốn hết `n cây xanh`, biết đội I hạ được `a cây` mỗi ngày, cứ mỗi `ngày thứ k` thì nghỉ và đội II hạ được `b cây` mỗi ngày, cứ mỗi `ngày thứ m` thì phải nghỉ.\n",
        "    - Tổng số cây 2 đội đốn 1 ngày: `c = a + b`.\n",
        "    - Số cây 2 đội đốn `day = k * m` ngày: `amount_of_trees = day * c - (day // k) * a - (day // m) * b`.\n",
        "    - Số ngày tối thiểu để đốn hết `n cây xanh`: `day = (n * day) // amount_of_trees - 1`.\n",
        "\n",
        "## **II. Pattern Recognition (Nhận dạng mẫu):**\n",
        "- **Bài toán/ Kỹ thuật:** Chia để trị.\n",
        "- **Đặc điểm nhận dạng:**  \n",
        "    - Tìm ra khoảng ngày mà 2 đội đốn hết cây.\n",
        "    - Duyệt từ đầu đến cuối khoảng sao cho số cây 2 đội đốn `lớn hơn hoặc bằng n`.    \n",
        "    \n",
        "## **III. ALgorithm Designed (Thiết kế thuật toán):**\n",
        "**Mã giả:**\n",
        "- Số cây đốn hạ 1 ngày: `c = a + b`.\n",
        "- Số cây đốn hạ `day = k * m` ngày: `amount_of_trees = day * c - (day // k) * a - (day // m) * b`.\n",
        "- Số ngày tối thiểu để đốn hạ: `day = (n * day) // amount_of_trees - 1`.\n",
        "- Nếu `n % amount_of_trees == 0` thì xuất `day` ra màn hình và dừng chương trình\n",
        "- Nếu `n % amount_of_trees != 0` thì thực hiện `loop`:\n",
        "    - Tính lượng cây đốn hạ trong `day` ngày: `amount_of_trees = day * c - (day // k) * a - (day // m) * b`.\n",
        "    - Nếu `amount_of_trees >= n` thì xuất `day` ra màn hình và dừng chương trình.\n",
        "    - Nếu `amount_of_trees < n` thì `day = day + 1`.\n",
        "\n",
        "## **IV. Complexity (Độ phức tạp):**\n",
        "- Độ phức tạp của thuật toán: `O(logn).`\n",
        "\n",
        "## **V. Code:**"
      ]
    },
    {
      "cell_type": "code",
      "metadata": {
        "colab": {
          "base_uri": "https://localhost:8080/"
        },
        "id": "fM1Mm7vStaCM",
        "outputId": "807a6632-bb98-48c0-9498-c7c1e255a121"
      },
      "source": [
        "import sys\n",
        "\n",
        "a, k, b, m, n = map(int, input().split())\n",
        "\n",
        "c = a + b\n",
        "# calculate amount of trees in k * m day\n",
        "day = k * m\n",
        "amount_of_trees = day * c - (day // k) * a - (day // m) * b\n",
        "\n",
        "# find the result\n",
        "if n % amount_of_trees == 0:\n",
        "    print((n // amount_of_trees) * day - 1)\n",
        "    exit\n",
        "\n",
        "day = (n * day) // amount_of_trees - 1\n",
        "while True:\n",
        "    amount_of_trees = day * c - (day // k) * a - (day // m) * b\n",
        "    if amount_of_trees >= n:\n",
        "        print(day)\n",
        "        break\n",
        "    else:\n",
        "        day += 1"
      ],
      "execution_count": null,
      "outputs": [
        {
          "output_type": "stream",
          "text": [
            "2 4 3 3 25\n",
            "7\n"
          ],
          "name": "stdout"
        }
      ]
    }
  ]
}