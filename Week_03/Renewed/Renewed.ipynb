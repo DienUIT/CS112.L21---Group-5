{
 "cells": [
  {
   "cell_type": "markdown",
   "metadata": {},
   "source": [
    "[![Open In Colab](https://colab.research.google.com/assets/colab-badge.svg)](https://colab.research.google.com/drive/1jGhkde79Z9XAzzuCHKYzmpG5c-GosHeW#scrollTo=fM1Mm7vStaCM)\n",
    "\n",
    "# **RENEWED**\n",
    "\n",
    "## **I. Abstraction (Trừu tượng hóa):**\n",
    "- Tìm `số ngày` 2 đội đốn hết `n cây xanh`, biết đội I hạ được `a cây` mỗi ngày, cứ mỗi `ngày thứ k` thì nghỉ và đội II hạ được `b cây` mỗi ngày, cứ mỗi `ngày thứ m` thì phải nghỉ.\n",
    "    - Tổng số cây 2 đội đốn 1 ngày: `c = a + b`.\n",
    "    - Số cây 2 đội đốn `day = k * m` ngày: `amount_of_trees = day * c - (day // k) * a - (day // m) * b`.\n",
    "    - Số ngày tối thiểu để đốn hết `n cây xanh`: `day = (n * day) // amount_of_trees - 1`.\n",
    "\n",
    "## **II. Pattern Recognition (Nhận dạng mẫu):**\n",
    "- **Bài toán/ Kỹ thuật:** Chia để trị.\n",
    "- **Đặc điểm nhận dạng:**  \n",
    "    - Tìm ra khoảng ngày mà 2 đội đốn hết cây.\n",
    "    - Duyệt từ đầu đến cuối khoảng sao cho số cây 2 đội đốn `lớn hơn hoặc bằng n`.    \n",
    "    \n",
    "## **III. ALgorithm Designed (Thiết kế thuật toán):**\n",
    "**Mã giả:**\n",
    "- Số cây đốn hạ 1 ngày: `c = a + b`.\n",
    "- Số cây đốn hạ `day = k * m` ngày: `amount_of_trees = day * c - (day // k) * a - (day // m) * b`.\n",
    "- Số ngày tối thiểu để đốn hạ: `day = (n * day) // amount_of_trees - 1`.\n",
    "- Nếu `n % amount_of_trees == 0` thì xuất `day` ra màn hình và dừng chương trình\n",
    "- Nếu `n % amount_of_trees != 0` thì thực hiện `loop`:\n",
    "    - Tính lượng cây đốn hạ trong `day` ngày: `amount_of_trees = day * c - (day // k) * a - (day // m) * b`.\n",
    "    - Nếu `amount_of_trees >= n` thì xuất `day` ra màn hình và dừng chương trình.\n",
    "    - Nếu `amount_of_trees < n` thì `day = day + 1`.\n",
    "\n",
    "## **IV. Complexity (Độ phức tạp):**\n",
    "- Độ phức tạp của thuật toán: `O(logn).`\n",
    "\n",
    "## **V. Code:**\n",
    "```python\n",
    "a, k, b, m, n = map(int, input().split())\n",
    "\n",
    "c = a + b\n",
    "# calculate amount of trees in k * m day\n",
    "day = k * m\n",
    "amount_of_trees = day * c - (day // k) * a - (day // m) * b\n",
    "\n",
    "# find the result\n",
    "if n % amount_of_trees == 0:\n",
    "    print((n // amount_of_trees) * day - 1)\n",
    "    return\n",
    "\n",
    "day = (n * day) // amount_of_trees - 1\n",
    "while True:\n",
    "    amount_of_trees = day * c - (day // k) * a - (day // m) * b\n",
    "    if amount_of_trees >= n:\n",
    "        print(day)\n",
    "        break\n",
    "    else:\n",
    "        day += 1\n",
    "```\n",
    "\n",
    "\n",
    "    2 4 3 3 25\n",
    "    7"
   ]
  }
 ],
 "metadata": {
  "kernelspec": {
   "display_name": "Python 3",
   "language": "python",
   "name": "python3"
  },
  "language_info": {
   "codemirror_mode": {
    "name": "ipython",
    "version": 3
   },
   "file_extension": ".py",
   "mimetype": "text/x-python",
   "name": "python",
   "nbconvert_exporter": "python",
   "pygments_lexer": "ipython3",
   "version": "3.8.5"
  }
 },
 "nbformat": 4,
 "nbformat_minor": 4
}
