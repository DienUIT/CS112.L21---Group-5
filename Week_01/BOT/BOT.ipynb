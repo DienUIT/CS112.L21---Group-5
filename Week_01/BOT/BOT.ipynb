{
 "cells": [
  {
   "cell_type": "markdown",
   "metadata": {},
   "source": [
    "# VR06_BOT\n",
    "## I. Abstraction\n",
    "- Tìm giá trị p và q sao cho mảng con arr[ p:q ] lớn nhất\n",
    "\n",
    "## II. Pattern recognition\n",
    "- Kadane's algorithm\n",
    "\n",
    "## III. Algorithm designed\n",
    "+ Initialize:  \n",
    "    * max_so_far = 0  \n",
    "    * max_ending_here = 0  \n",
    "    * start = 0  \n",
    "    * end = 0  \n",
    "+ Loop for each element of the array\n",
    "    * max_ending_here = mar_ending_here + arr[ i ]\n",
    "    * if max_ending_here > max_so_far\n",
    "        * max_so_far = max_ending_here\n",
    "        * start = s\n",
    "\t\t* end = i\n",
    "    * if max_ending_here < 0:\n",
    "        * max_ending_here = 0\t\n",
    "\t\t* s = i+1\n",
    "+ return max_so_far\n",
    "\n",
    "## IV. Complexity\n",
    "+ O(n)\n",
    "\n",
    "## V. Code\n"
   ]
  },
  {
   "cell_type": "code",
   "execution_count": 2,
   "metadata": {},
   "outputs": [
    {
     "name": "stdout",
     "output_type": "stream",
     "text": [
      "16\n",
      "2 -4 5 -8 4 -1 -1 1 1 1 -2 2 4 -6 9 -4\n",
      "5 15 12\n"
     ]
    }
   ],
   "source": [
    "n = int(input())\n",
    "arr = list(map(int,input().split()))\n",
    "\n",
    "\n",
    "def maxSubArraySum(a):\n",
    "\tmax_so_far = -10**9 - 1\n",
    "\tmax_ending_here = 0\n",
    "\tstart = 0\n",
    "\tend = 0\n",
    "\ts = 0\n",
    "\n",
    "\tfor i in range(n):\n",
    "\n",
    "\t\tmax_ending_here += a[i]\n",
    "\n",
    "\t\tif max_so_far < max_ending_here:\n",
    "\t\t\tmax_so_far = max_ending_here\n",
    "\t\t\tstart = s\n",
    "\t\t\tend = i\n",
    "\n",
    "\t\tif max_ending_here < 0:\n",
    "\t\t\tmax_ending_here = 0\t\n",
    "\t\t\ts = i+1\n",
    "\n",
    "\tprint (start+1,end+1,max_so_far)\n",
    "maxSubArraySum(arr)"
   ]
  }
 ],
 "metadata": {
  "kernelspec": {
   "display_name": "Python 3",
   "language": "python",
   "name": "python3"
  },
  "language_info": {
   "codemirror_mode": {
    "name": "ipython",
    "version": 3
   },
   "file_extension": ".py",
   "mimetype": "text/x-python",
   "name": "python",
   "nbconvert_exporter": "python",
   "pygments_lexer": "ipython3",
   "version": "3.8.5"
  }
 },
 "nbformat": 4,
 "nbformat_minor": 4
}
