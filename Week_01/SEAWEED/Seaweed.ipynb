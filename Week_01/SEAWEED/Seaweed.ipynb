{
 "cells": [
  {
   "cell_type": "markdown",
   "metadata": {},
   "source": [
    "# SEAWEED - TẢO BIỂN\n",
    "\n",
    "## I. Abstraction (Trừu tượng hóa):\n",
    "- Tìm số lượng cá thể sau k ngày với số lượng cá thể ban đầu là n.\n",
    "\n",
    "## II. Pattern Recognition (Nhận dạng mẫu):\n",
    "- **Bài toán/ Kỹ thuật:** Duyệt mảng\n",
    "- **Đặc điểm nhận dạng:**  \n",
    "Trường hợp **n = 1**, ta có:  \n",
    "Bảng sinh sản của tảo biển như sau:  \n",
    "|NGÀY / MỨC|  1  |  2  |  3  |  4  |  5  |  6  |  7  | SỐ CÁ THỂ |\n",
    "|:--------:|:---:|:---:|:---:|:---:|:---:|:---:|:---:|:---------:|\n",
    "|     0    |  1  |  -  |  -  |  -  |  -  |  -  |  -  |     1     |\n",
    "|     1    |  1  |  1  |  -  |  -  |  -  |  -  |  -  |     2     |\n",
    "|     2    |  3  |  1  |  1  |  -  |  -  |  -  |  -  |     5     |\n",
    "|     3    |  8  |  3  |  1  |  1  |  -  |  -  |  -  |     13    |\n",
    "|     4    |  13 |  8  |  3  |  1  |  1  |  -  |  -  |     34    |\n",
    "|     5    |  34 |  13 |  8  |  3  |  1  |  1  |  -  |     89    |\n",
    "|     6    |  89 |  34 |  13 |  8  |  3  |  1  |  1  |     233   |\n",
    "  \n",
    "  Bảng sinh sản của tảo biển theo mảng như sau:  \n",
    "\n",
    "|MẢNG / k|  0  |  1  |  2  |  3  |  4  |  5  |  6  |\n",
    "|:--------:|:---:|:---:|:---:|:---:|:---:|:---:|:---:|\n",
    "|  arr(k - 2)    |  -  |  -  |  1  |  2  |  5  |  13  |  34  |\n",
    "|  arr(k - 1)    |  -  |  1  |  2  |  5  |  13  |  34  |  89  |\n",
    "|3 * arr(k - 1) - arr(k - 2)|  1  |  2  |  5  |  13  |  34  |  89  | 233  |\n",
    "\n",
    "## III. ALgorithm Designed (Thiết kế thuật toán):\n",
    "**Mã giả:**\n",
    "- Initialize:  \n",
    "    `arr = [1, 2]`\n",
    "- Loop from 1 to k:  \n",
    "    `arr.insert(2, 3 * arr[1] - arr[0])`\n",
    "    `arr.pop(0)`\n",
    "- Print:  \n",
    "    `(n * arr[1]) % (10**9 + 7)`\n",
    "\n",
    "## IV. Complexity (Độ phức tạp):\n",
    "- Vòng for chạy từ giá trị 1 đến k\n",
    "- Độ phức tạp của thuật toán: `O(n)`"
   ]
  },
  {
   "cell_type": "code",
   "execution_count": null,
   "metadata": {},
   "outputs": [],
   "source": []
  }
 ],
 "metadata": {
  "kernelspec": {
   "display_name": "Python 3",
   "language": "python",
   "name": "python3"
  },
  "language_info": {
   "codemirror_mode": {
    "name": "ipython",
    "version": 3
   },
   "file_extension": ".py",
   "mimetype": "text/x-python",
   "name": "python",
   "nbconvert_exporter": "python",
   "pygments_lexer": "ipython3",
   "version": "3.8.5"
  }
 },
 "nbformat": 4,
 "nbformat_minor": 4
}
