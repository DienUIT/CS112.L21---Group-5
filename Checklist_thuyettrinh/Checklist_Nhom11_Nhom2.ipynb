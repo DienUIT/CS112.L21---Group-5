{
 "metadata": {
  "language_info": {
   "codemirror_mode": {
    "name": "ipython",
    "version": 3
   },
   "file_extension": ".py",
   "mimetype": "text/x-python",
   "name": "python",
   "nbconvert_exporter": "python",
   "pygments_lexer": "ipython3",
   "version": 3
  },
  "orig_nbformat": 2
 },
 "nbformat": 4,
 "nbformat_minor": 2,
 "cells": [
  {
   "source": [
    "### KIỂM TRA TÍNH ĐÚNG ĐẮN CỦA CHƯƠNG TRÌNH BẰNG BỘ TEST (Nhóm 11)\n",
    "1. Test case là gì?\n",
    "\n",
    "    * Tese case là mô tả một dữ liệu đầu vào (input), hành động (action) hoặc một sự kiện (event) và kết quả truy vấn (expected response).\n",
    "    * Tập hợp tất cả các trường hợp có thể xảy ra từ dữ liệu input để kiểm thử tính đúng đắn của chương trình.\n",
    "\n",
    "2. Tại sao phải sử dụng test case\n",
    "    * Coi những đầu vào input có thể xảy ra và các output xác định => kiểm tra chương trình có hiểu quả hay không\n",
    "\n",
    "3. Một chương trình hiểu quả cần\n",
    "\n",
    "4. Thế nào là một test case\n",
    "\n",
    "5. Cấu trúc cơ bản của một test case gồm:\n",
    "* Test Case ID: Giá trị cần để xác định số lượng trường hợp cần để kiểm thử.\n",
    "* Chức năng (Function): Dựa theo chức năng của hệ thống có thể chia nhở các functions ra để tạo test case rõ ràng hơn.\n",
    "* Test Data : Những dữ liệu cần chuẩn bị để test\n",
    "* Test Steps : Mô tả các bước thực hiện test\n",
    "* Expected results: Kết quả mong đợi từ các bước thực hiện trên\n",
    "* A result: Thông thường sẽ là pass, fail, và pending. Đây là kết quả thực tế khi thực hiện test theo test case trên môi trường của hệ thống\n",
    "* Comments : Cột này dùng để note lại screen shot, thông tin liên quan khi thực hiện test case.\n",
    "* Ngoài ra, có thể thêm 1 số cột như: ** Tester ( người thực hiện test), Execute Date ( ngày thực hiện test)\n",
    "\n",
    "6. Áp dụng trong các bài toán\n",
    "* Hãy viết chương trình tìm các nghiệm của một pt:\n",
    "ax^2+bx+c=0 rồi in ra màn hình các nghiệm của pt đó\n",
    "<br>Input: a, b, c\n",
    "<br>Output: x\n",
    "<br>Bộ test mẫu:\n",
    "<br>\n",
    "* Thực hiện phép chia hai phân số\n",
    "* Chuyển khung thời gian 12h sang 24h\n",
    "\n",
    "7. Thầy nhận xét\n",
    "* Làm thế nào để 1 test case có thể kiểm tra hiệu năng ?\n",
    "\n",
    "<hr>\n",
    "\n",
    "### DIVIDE AND CONQUER (Nhóm 2)\n",
    "1. Đặc điểm nhận dạng\n",
    "    * Bước 1 (divide): Chia bài toán lớn thành các bài toán con nhỏ hơn\n",
    "\n",
    "    * Bước 2 (conquer): Gọi đệ quy giải các bài toán con, sau đó dựa trên lời giải của bài toán con để giải bài toán lớn.\n",
    "\n",
    "    <br>Bài toán như thế  nào sẽ áp dụng bài toán chia để trị\n",
    "* Tính luỹ thừa\n",
    "* Tích hai số nguyên n bit\n",
    "* Tìm kiếm nhị phân \n",
    "\n",
    "2. Ưu và nhược điểm của phương pháp\n",
    "\n",
    "3. Bài tập\n",
    "* Tính luỹ thừa\n",
    "* Dãy Fibonacci\n"
   ],
   "cell_type": "markdown",
   "metadata": {}
  },
  {
   "cell_type": "code",
   "execution_count": null,
   "metadata": {},
   "outputs": [],
   "source": []
  },
  {
   "cell_type": "code",
   "execution_count": null,
   "metadata": {},
   "outputs": [],
   "source": []
  }
 ]
}