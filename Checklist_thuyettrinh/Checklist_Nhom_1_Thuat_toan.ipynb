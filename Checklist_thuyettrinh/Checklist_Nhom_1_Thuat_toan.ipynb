{
 "cells": [
  {
   "cell_type": "markdown",
   "metadata": {},
   "source": [
    "# CÁC KHÁI NIỆM THUẬT TOÁN"
   ]
  },
  {
   "cell_type": "markdown",
   "metadata": {},
   "source": [
    "1. Thuật toán là gì?\n",
    "- Tập hợp hữu hạn các hướng dẫn rõ ràng để giải quyết một bài toán\n",
    "- Input => Thuật toán => Output\n",
    "2. Thuât toán có những tính chất gì?\n",
    "- Thuật toán có 5 tính chất bao gồm: tính chính xác, tính khách quan, tính phổ dụng, tính rõ ràng, tính kết thúc.\n",
    "3. Các cách biểu diễn thuật toán\n",
    "- Ngôn ngữ tự nhiên\n",
    "- Sử dụng lưu đồ flowchart\n",
    "- Mã giả\n",
    "4. Có những loại thuật toán nào?\n",
    "- Vét cạn\n",
    "- Quy Hoạch động\n",
    "- Chia để trị\n",
    "5. Lợi ích \n",
    "- Tăng tư duy logic\n",
    "- Làm nền tảng để học các kiến thức cao hơn\n",
    "- Điểm cộng khi tham gia phỏng vấn cá công ty\n",
    "- Phát triển cao hơn trong công việc\n",
    "6. Đánh giá thuật toán\n",
    "- Đánh giá thời gian: thực nghiêm (thực hành) và toán học(lý thuyết)\n",
    "- Tính toán độ phức tạp: \n",
    "    + Quy tắc bỏ hằng số\n",
    "    + Quy tắc lấy max\n",
    "    + Quy tắc cộng\n",
    "    + Quy tắc nhân\n",
    "7. Cần tìm hiểu thêm\n",
    "    + Big O\n",
    "    + Big omega\n",
    "    + Big theta notation\n",
    "    + kỹ thuật so sánh tốc độ của hai hàm: dùng lim f(x)/g(x)"
   ]
  },
  {
   "cell_type": "code",
   "execution_count": null,
   "metadata": {},
   "outputs": [],
   "source": []
  }
 ],
 "metadata": {
  "kernelspec": {
   "display_name": "Python 3",
   "language": "python",
   "name": "python3"
  },
  "language_info": {
   "codemirror_mode": {
    "name": "ipython",
    "version": 3
   },
   "file_extension": ".py",
   "mimetype": "text/x-python",
   "name": "python",
   "nbconvert_exporter": "python",
   "pygments_lexer": "ipython3",
   "version": "3.8.5"
  }
 },
 "nbformat": 4,
 "nbformat_minor": 4
}
